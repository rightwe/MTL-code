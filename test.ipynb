{
 "cells": [
  {
   "cell_type": "code",
   "execution_count": 1,
   "metadata": {},
   "outputs": [],
   "source": [
    "import torch\n",
    "import torch.nn as nn\n",
    "import numpy as np\n",
    "from sklearn.metrics import r2_score\n",
    "from sklearn.preprocessing import StandardScaler\n",
    "from sklearn.model_selection import train_test_split\n",
    "from torch.utils.data import DataLoader, Dataset\n",
    "import torch.optim as optim"
   ]
  },
  {
   "cell_type": "code",
   "execution_count": 2,
   "metadata": {},
   "outputs": [],
   "source": [
    "from model import AOE\n",
    "from read_file import read_file, getTensorDataset\n",
    "X, y = read_file(filepath='./4tasks-encode.xlsx', iScaler=False)\n",
    "X_train, X_test, y_train, y_test = train_test_split(X.astype(np.float32), y, test_size=0.33, random_state=25)\n",
    "train_loader = DataLoader(dataset=getTensorDataset(X_train, y_train), batch_size=54)\n",
    "val_loader = DataLoader(dataset=getTensorDataset(X_test,y_test),batch_size=54)"
   ]
  },
  {
   "cell_type": "code",
   "execution_count": 6,
   "metadata": {},
   "outputs": [
    {
     "name": "stdout",
     "output_type": "stream",
     "text": [
      "torch.Size([54, 1])\n"
     ]
    }
   ],
   "source": [
    "aoe = AOE(18, 64, 1, 4, 5)\n",
    "for train_X, train_y in train_loader:\n",
    "    out = aoe(train_X)\n",
    "    print(out[0].shape)\n",
    "\n",
    "\n",
    "    \n"
   ]
  }
 ],
 "metadata": {
  "kernelspec": {
   "display_name": "Python 3.8.13 ('First')",
   "language": "python",
   "name": "python3"
  },
  "language_info": {
   "codemirror_mode": {
    "name": "ipython",
    "version": 3
   },
   "file_extension": ".py",
   "mimetype": "text/x-python",
   "name": "python",
   "nbconvert_exporter": "python",
   "pygments_lexer": "ipython3",
   "version": "3.8.13"
  },
  "orig_nbformat": 4,
  "vscode": {
   "interpreter": {
    "hash": "4b3391400c782768846f32ba12f709f10c798f831f54432f6435a679695d9de8"
   }
  }
 },
 "nbformat": 4,
 "nbformat_minor": 2
}
