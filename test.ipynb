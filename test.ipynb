{
 "cells": [
  {
   "cell_type": "code",
   "execution_count": 1,
   "metadata": {},
   "outputs": [],
   "source": [
    "import torch\n",
    "import torch.nn as nn\n",
    "import numpy as np\n",
    "from sklearn.metrics import r2_score\n",
    "from sklearn.preprocessing import StandardScaler\n",
    "from sklearn.model_selection import train_test_split\n",
    "from torch.utils.data import DataLoader, Dataset\n",
    "import torch.optim as optim"
   ]
  },
  {
   "cell_type": "code",
   "execution_count": 2,
   "metadata": {},
   "outputs": [],
   "source": [
    "from model import AOE, Tower\n",
    "from read_file import read_file, getTensorDataset\n",
    "X, y = read_file(filepath='./4tasks-encode.xlsx', iScaler=False)\n",
    "X_train, X_test, y_train, y_test = train_test_split(X.astype(np.float32), y, test_size=0.33, random_state=25)\n",
    "train_loader = DataLoader(dataset=getTensorDataset(X_train, y_train), batch_size=54)\n",
    "val_loader = DataLoader(dataset=getTensorDataset(X_test,y_test),batch_size=54)"
   ]
  },
  {
   "cell_type": "code",
   "execution_count": 14,
   "metadata": {},
   "outputs": [
    {
     "data": {
      "text/plain": [
       "Parameter containing:\n",
       "tensor([1., 1., 1., 1.], requires_grad=True)"
      ]
     },
     "execution_count": 14,
     "metadata": {},
     "output_type": "execute_result"
    }
   ],
   "source": [
    "aoe = AOE(18, 64, 1, 4, 5)\n",
    "list(aoe.parameters())\n",
    "aoe.dynamic_weights"
   ]
  },
  {
   "cell_type": "code",
   "execution_count": null,
   "metadata": {},
   "outputs": [],
   "source": [
    "W = nn.ParameterList([expert.last_layer.parameters for expert in aoe.expert_list])\n",
    "W = [expert.last_layer.parameters for expert in aoe.expert_list]\n",
    "torch.autograd.grad\n",
    "W"
   ]
  },
  {
   "cell_type": "code",
   "execution_count": 25,
   "metadata": {},
   "outputs": [
    {
     "ename": "AttributeError",
     "evalue": "'tuple' object has no attribute 'parameters'",
     "output_type": "error",
     "traceback": [
      "\u001b[1;31m---------------------------------------------------------------------------\u001b[0m",
      "\u001b[1;31mAttributeError\u001b[0m                            Traceback (most recent call last)",
      "\u001b[1;32mc:\\Users\\How\\Desktop\\Experiments\\Attention\\test.ipynb Cell 5\u001b[0m in \u001b[0;36m<cell line: 1>\u001b[1;34m()\u001b[0m\n\u001b[0;32m      <a href='vscode-notebook-cell:/c%3A/Users/How/Desktop/Experiments/Attention/test.ipynb#X12sZmlsZQ%3D%3D?line=0'>1</a>\u001b[0m \u001b[39mfor\u001b[39;00m layer \u001b[39min\u001b[39;00m aoe\u001b[39m.\u001b[39mexpert_list[\u001b[39m1\u001b[39m]\u001b[39m.\u001b[39mnamed_children():\n\u001b[1;32m----> <a href='vscode-notebook-cell:/c%3A/Users/How/Desktop/Experiments/Attention/test.ipynb#X12sZmlsZQ%3D%3D?line=1'>2</a>\u001b[0m     \u001b[39mprint\u001b[39m(layer\u001b[39m.\u001b[39;49mparameters())\n",
      "\u001b[1;31mAttributeError\u001b[0m: 'tuple' object has no attribute 'parameters'"
     ]
    }
   ],
   "source": [
    "for layer in aoe.expert_list[1].named_children():\n"
   ]
  },
  {
   "cell_type": "markdown",
   "metadata": {},
   "source": [
    "### train"
   ]
  },
  {
   "cell_type": "code",
   "execution_count": 6,
   "metadata": {},
   "outputs": [
    {
     "name": "stdout",
     "output_type": "stream",
     "text": [
      "torch.Size([54, 1])\n"
     ]
    }
   ],
   "source": [
    "from train import train\n",
    "aoe = AOE(18, 64, 1, 4, 5)\n",
    "Loss = nn.MSELoss()\n",
    "optimizer = torch.optim.Adam(aoe.parameters(), lr=0.001)\n",
    "EPOCH = 1000"
   ]
  },
  {
   "cell_type": "code",
   "execution_count": 24,
   "metadata": {},
   "outputs": [
    {
     "name": "stdout",
     "output_type": "stream",
     "text": [
      "epoch:  100000, 数字分比为：    818.00,0.93,0.66,0.73\n"
     ]
    }
   ],
   "source": [
    "a1, a2, a3, a4 = 818, 0.931231231925, 0.66312343579, 0.726345645709\n",
    "EPOCH = 100000\n",
    "print(\"epoch:{:8}, 数字分比为：{:10.2f},{:.2f},{:.2f},{:.2f}\".format(EPOCH, a1, a2, a3, a4))"
   ]
  },
  {
   "cell_type": "code",
   "execution_count": 28,
   "metadata": {},
   "outputs": [],
   "source": [
    "# 网络参数（权重）初始化函数\n",
    "def init_weights(layer):\n",
    "    # 如果为卷积层，使用正态分布初始化\n",
    "    if type(layer) == nn.Conv2d:\n",
    "        nn.init.normal_(layer.weight, mean=0, std=0.5)\n",
    "    # 如果为全连接层，权重使用均匀分布初始化，偏置初始化为0.1\n",
    "    elif type(layer) == nn.Linear:\n",
    "        nn.init.xavier_normal_(layer.weight, gain=1)\n",
    "        nn.init.constant_(layer.bias, 0.1)\n"
   ]
  },
  {
   "cell_type": "code",
   "execution_count": 9,
   "metadata": {},
   "outputs": [
    {
     "name": "stdout",
     "output_type": "stream",
     "text": [
      "10.0\n"
     ]
    }
   ],
   "source": [
    "l = torch.tensor(10.)\n",
    "print(f\"{l.numpy()}\")"
   ]
  }
 ],
 "metadata": {
  "kernelspec": {
   "display_name": "Python 3.8.13 ('First')",
   "language": "python",
   "name": "python3"
  },
  "language_info": {
   "codemirror_mode": {
    "name": "ipython",
    "version": 3
   },
   "file_extension": ".py",
   "mimetype": "text/x-python",
   "name": "python",
   "nbconvert_exporter": "python",
   "pygments_lexer": "ipython3",
   "version": "3.8.13"
  },
  "orig_nbformat": 4,
  "vscode": {
   "interpreter": {
    "hash": "4b3391400c782768846f32ba12f709f10c798f831f54432f6435a679695d9de8"
   }
  }
 },
 "nbformat": 4,
 "nbformat_minor": 2
}
